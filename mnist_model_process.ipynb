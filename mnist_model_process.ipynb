{
 "cells": [
  {
   "cell_type": "markdown",
   "metadata": {},
   "source": [
    "# Desenvolvimento de um Modelo de Classificação de Dígitos MNIST usando TensorFlow\n",
    "\n",
    "Este notebook descreve passo a passo a criação e o treinamento de uma Rede Neural Convolucional (CNN) para classificar imagens do dataset **MNIST**. O modelo é implementado utilizando **TensorFlow/Keras**.\n",
    "\n",
    "---\n",
    "\n",
    "## **1. Importação das Bibliotecas**\n",
    "\n",
    "Primeiro, importamos as bibliotecas necessárias:\n",
    "- `pathlib` para manipulação de caminhos ao salvar o modelo.\n",
    "- `tensorflow` para implementação da rede neural e treinamento.\n",
    "- `mnist` para carregar o conjunto de dados MNIST."
   ]
  },
  {
   "cell_type": "code",
   "execution_count": null,
   "metadata": {},
   "outputs": [
    {
     "ename": "",
     "evalue": "",
     "output_type": "error",
     "traceback": [
      "\u001b[1;31mRunning cells with 'Python 3.11.0' requires the ipykernel package.\n",
      "\u001b[1;31mRun the following command to install 'ipykernel' into the Python environment. \n",
      "\u001b[1;31mCommand: '/home/danilo/.pyenv/versions/3.11.0/bin/python -m pip install ipykernel -U --force-reinstall'"
     ]
    }
   ],
   "source": [
    "from pathlib import Path\n",
    "import tensorflow as tf\n",
    "from tensorflow.keras.datasets import mnist\n",
    "from tensorflow.keras.models import Sequential\n",
    "from tensorflow.keras.layers import Dense, Flatten, Conv2D, MaxPooling2D"
   ]
  },
  {
   "cell_type": "markdown",
   "metadata": {},
   "source": [
    "## 2. Carregamento do Dataset MNIST\n",
    "O MNIST é um conjunto de dados que contém imagens de dígitos escritos à mão, com resolução de 28x28 pixels em escala de cinza.\n",
    "\n",
    "Carregamos os dados e dividimos em:\n",
    "\n",
    "- `x_train` e `y_train`: dados de treinamento (imagens e rótulos).\n",
    "- `x_test` e `y_test`: dados de teste (imagens e rótulos)."
   ]
  },
  {
   "cell_type": "code",
   "execution_count": null,
   "metadata": {},
   "outputs": [],
   "source": [
    "(x_train, y_train), (x_test, y_test) = mnist.load_data()"
   ]
  },
  {
   "cell_type": "markdown",
   "metadata": {},
   "source": [
    "## 3. Pré-processamento dos Dados\n",
    "### 3.1 Normalização\n",
    "\n",
    "Normalizamos os valores dos pixels das imagens para o intervalo [0, 1], pois isso acelera o treinamento do modelo e melhora a performance."
   ]
  },
  {
   "cell_type": "code",
   "execution_count": null,
   "metadata": {},
   "outputs": [],
   "source": [
    "x_train = x_train / 255.0\n",
    "x_test = x_test / 255.0"
   ]
  },
  {
   "cell_type": "markdown",
   "metadata": {},
   "source": [
    "# 3.2 Redimensionamento\n",
    "Redimensionamos as imagens para adicionar uma dimensão de canal, uma vez que as redes convolucionais esperam dados no formato (altura, largura, canais).\n",
    "\n",
    "x_train e x_test passam de (N, 28, 28) para (N, 28, 28, 1), onde 1 representa o canal (escala de cinza)."
   ]
  },
  {
   "cell_type": "code",
   "execution_count": null,
   "metadata": {},
   "outputs": [],
   "source": [
    "x_train = x_train.reshape(x_train.shape[0], 28, 28, 1)\n",
    "x_test = x_test.reshape(x_test.shape[0], 28, 28, 1)"
   ]
  },
  {
   "cell_type": "markdown",
   "metadata": {},
   "source": [
    "## **4. Construção do Modelo CNN**\n",
    "\n",
    "Neste tópico, criamos a **Rede Neural Convolucional (CNN)**, uma arquitetura projetada para trabalhar com dados espaciais, como imagens. As CNNs utilizam camadas especiais para extrair características importantes das imagens, como bordas, texturas e padrões, que são essenciais para tarefas de classificação.\n",
    "\n",
    "### **Estrutura da Arquitetura**\n",
    "\n",
    "A CNN é composta por várias camadas que desempenham papéis distintos no processo de aprendizado. Abaixo estão as descrições detalhadas das camadas utilizadas:\n",
    "\n",
    "1. **Camadas Convolucionais (`Conv2D`)**\n",
    "   - As camadas convolucionais aplicam filtros (kernels) às imagens de entrada para extrair **características espaciais** como bordas, texturas e padrões.\n",
    "   - Cada filtro realiza uma operação de convolução sobre a imagem, produzindo um **mapa de características**.\n",
    "   - A quantidade de filtros determina quantos mapas de características serão produzidos.\n",
    "   - **Ativação ReLU** (Rectified Linear Unit) é utilizada para introduzir **não-linearidade** no modelo, removendo valores negativos e mantendo os positivos.\n",
    "\n",
    "   - **Exemplo**:  \n",
    "     ```python\n",
    "     Conv2D(32, (3, 3), activation='relu', input_shape=(28, 28, 1))\n",
    "     ```\n",
    "     - **32**: Número de filtros (ou mapas de características).\n",
    "     - **(3, 3)**: Tamanho do kernel (filtro).\n",
    "     - **activation='relu'**: Função de ativação ReLU.\n",
    "     - **input_shape=(28, 28, 1)**: Dimensão da imagem de entrada (altura, largura, número de canais).\n",
    "\n",
    "2. **Camadas de Pooling (`MaxPooling2D`)**\n",
    "   - As camadas de pooling são responsáveis por **reduzir a dimensionalidade** dos mapas de características gerados pelas camadas convolucionais.\n",
    "   - O **MaxPooling** seleciona o maior valor dentro de uma janela específica (geralmente 2x2), reduzindo a resolução da imagem e mantendo as informações mais importantes.\n",
    "   - Isso ajuda a:\n",
    "     - Reduzir o número de parâmetros e o custo computacional.\n",
    "     - Controlar o **overfitting**.\n",
    "     - Tornar o modelo mais robusto a pequenas variações nas imagens.\n",
    "\n",
    "   - **Exemplo**:\n",
    "     ```python\n",
    "     MaxPooling2D((2, 2))\n",
    "     ```\n",
    "     - **(2, 2)**: Tamanho da janela de pooling.\n",
    "\n",
    "3. **Camada Flatten**\n",
    "   - A camada `Flatten` transforma a **matriz 2D** dos mapas de características em um **vetor 1D**.  \n",
    "   - Essa etapa é necessária porque as camadas densas (Fully Connected) esperam entradas unidimensionais.  \n",
    "\n",
    "   - **Exemplo**:  \n",
    "     ```python\n",
    "     Flatten()\n",
    "     ```\n",
    "     - Nenhum hiperparâmetro adicional é necessário.\n",
    "\n",
    "4. **Camada Densa (`Dense`)**\n",
    "   - Camadas totalmente conectadas (Fully Connected Layers) processam os vetores extraídos pelas camadas convolucionais e pooling.\n",
    "   - A camada `Dense` conecta todos os neurônios de entrada a todos os neurônios de saída, permitindo ao modelo aprender combinações das características extraídas.\n",
    "   - Utilizamos:\n",
    "     - **Camada intermediária** com 128 neurônios e ativação **ReLU**: para modelar relações não-lineares.\n",
    "     - **Camada de saída** com 10 neurônios e ativação **softmax**: para classificar as imagens em 10 classes (dígitos de 0 a 9). A função softmax converte os valores em **probabilidades** para cada classe.\n",
    "\n",
    "   - **Exemplo**:\n",
    "     ```python\n",
    "     Dense(128, activation='relu')\n",
    "     Dense(10, activation='softmax')\n",
    "     ```\n",
    "     - **128**: Quantidade de neurônios na camada intermediária.\n",
    "     - **10**: Quantidade de neurônios na camada de saída (uma para cada classe).\n",
    "\n",
    "---\n",
    "\n",
    "### **Resumo da Arquitetura**\n",
    "\n",
    "- **Camada 1**:  \n",
    "   - `Conv2D`: 32 filtros, tamanho `(3x3)`, ativação ReLU.  \n",
    "   - `MaxPooling2D`: Reduz as dimensões com uma janela `(2x2)`.\n",
    "\n",
    "- **Camada 2**:  \n",
    "   - `Conv2D`: 64 filtros, tamanho `(3x3)`, ativação ReLU.  \n",
    "   - `MaxPooling2D`: Reduz as dimensões com uma janela `(2x2)`.\n",
    "\n",
    "- **Camada 3**:  \n",
    "   - `Flatten`: Achata os mapas de características em um vetor unidimensional.\n",
    "\n",
    "- **Camada 4**:  \n",
    "   - `Dense`: 128 neurônios, ativação ReLU.\n",
    "\n",
    "- **Camada 5**:  \n",
    "   - `Dense`: 10 neurônios, ativação softmax (saída com probabilidades para cada classe).\n"
   ]
  },
  {
   "cell_type": "code",
   "execution_count": null,
   "metadata": {},
   "outputs": [],
   "source": [
    "model = Sequential([\n",
    "    Conv2D(32, (3, 3), activation='relu', input_shape=(28, 28, 1)),\n",
    "    MaxPooling2D((2, 2)),\n",
    "    Conv2D(64, (3, 3), activation='relu'),\n",
    "    MaxPooling2D((2, 2)),\n",
    "    Flatten(),\n",
    "    Dense(128, activation='relu'),\n",
    "    Dense(10, activation='softmax')\n",
    "])"
   ]
  },
  {
   "cell_type": "markdown",
   "metadata": {},
   "source": [
    "## **5. Compilação do Modelo**\n",
    "\n",
    "Compilamos o modelo com os seguintes parâmetros:\n",
    "- **Optimizer**: Adam - um otimizador eficiente para aprendizado.\n",
    "- **Loss**: Sparse Categorical Crossentropy - usado para classificação multiclasse, especialmente quando os rótulos estão no formato inteiro (não one-hot encoded).\n",
    "- **Métricas**: Accuracy - métrica principal para avaliar o desempenho do modelo durante o treinamento e validação.\n"
   ]
  },
  {
   "cell_type": "code",
   "execution_count": null,
   "metadata": {},
   "outputs": [],
   "source": [
    "model.compile(optimizer='adam',\n",
    "              loss='sparse_categorical_crossentropy',\n",
    "              metrics=['accuracy'])"
   ]
  },
  {
   "cell_type": "markdown",
   "metadata": {},
   "source": [
    "## **6. Treinamento do Modelo**\n",
    "\n",
    "Treinamos o modelo usando os dados de treinamento com as seguintes configurações:\n",
    "- **Epochs**: 5 - o modelo passa por todo o conjunto de dados de treinamento 5 vezes.\n",
    "- **Batch size**: 32 - os dados são processados em lotes de 32 amostras para melhor uso da memória.\n",
    "- **Validation split**: 10% dos dados de treinamento são usados para validação, permitindo monitorar o desempenho do modelo em dados não vistos durante o treinamento.\n"
   ]
  },
  {
   "cell_type": "code",
   "execution_count": null,
   "metadata": {},
   "outputs": [],
   "source": [
    "model.fit(x_train, y_train, epochs=5, batch_size=32, validation_split=0.1)"
   ]
  },
  {
   "cell_type": "markdown",
   "metadata": {},
   "source": [
    "## **7. Salvando o Modelo Treinado**\n",
    "\n",
    "Após o treinamento, salvamos o modelo em um arquivo no formato **HDF5** com a extensão `.h5`. Esse formato armazena a arquitetura, os pesos e o estado do otimizador do modelo, permitindo reutilizá-lo posteriormente para inferência ou continuação do treinamento.\n",
    "\n",
    "Utilizamos a biblioteca `pathlib` para construir o caminho de salvamento do arquivo.\n"
   ]
  },
  {
   "cell_type": "code",
   "execution_count": null,
   "metadata": {},
   "outputs": [],
   "source": [
    "path = Path('model.h5')\n",
    "model.save(path)"
   ]
  }
 ],
 "metadata": {
  "kernelspec": {
   "display_name": "Python 3",
   "language": "python",
   "name": "python3"
  },
  "language_info": {
   "name": "python",
   "version": "3.11.0"
  }
 },
 "nbformat": 4,
 "nbformat_minor": 2
}
